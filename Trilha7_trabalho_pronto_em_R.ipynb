{
  "nbformat": 4,
  "nbformat_minor": 0,
  "metadata": {
    "kernelspec": {
      "display_name": "R",
      "language": "R",
      "name": "ir"
    },
    "language_info": {
      "codemirror_mode": "r",
      "file_extension": ".r",
      "mimetype": "text/x-r-source",
      "name": "R",
      "pygments_lexer": "r",
      "version": "4.1.0"
    },
    "colab": {
      "name": "Cópia de Trilha7_ExercicioAprofundamento.ipynb",
      "provenance": [],
      "include_colab_link": true
    }
  },
  "cells": [
    {
      "cell_type": "markdown",
      "metadata": {
        "id": "view-in-github",
        "colab_type": "text"
      },
      "source": [
        "<a href=\"https://colab.research.google.com/github/Faradezo/trilha7/blob/main/Trilha7_trabalho_pronto_em_R.ipynb\" target=\"_parent\"><img src=\"https://colab.research.google.com/assets/colab-badge.svg\" alt=\"Open In Colab\"/></a>"
      ]
    },
    {
      "cell_type": "markdown",
      "metadata": {
        "id": "X4b55N3G3z1m"
      },
      "source": [
        "# Link para o GitHub\n",
        "https://github.com/Faradezo/trilha7/blob/main/Trilha7_trabalho_pronto_em_R.ipynb"
      ]
    },
    {
      "cell_type": "markdown",
      "metadata": {
        "id": "nyDUaSAsbDnu"
      },
      "source": [
        "## Exercício de Aprofundamento - Trilha 7 "
      ]
    },
    {
      "cell_type": "markdown",
      "metadata": {
        "id": "FDT0TyYybDn1"
      },
      "source": [
        "Faça as manipulações e explorações visuais de acordo com as perguntas que precisam ser respondidas"
      ]
    },
    {
      "cell_type": "markdown",
      "metadata": {
        "id": "GJhqp5-_bDn3"
      },
      "source": [
        "## Análise de dados da NFL "
      ]
    },
    {
      "cell_type": "markdown",
      "metadata": {
        "id": "mXeLBZ3nbDn4"
      },
      "source": [
        "Pacote do R: https://cran.r-project.org/web/packages/nflfastR/index.html\n",
        "\n",
        "Este pacote permite que dados da NFL sejam analisados, jogada a jogada, habilitando diversos tipos de tomada de decisão a partir de manipulação dos dados e geração de gráficos.\n",
        "\n",
        "Nesta atividade de aprofundamento, vamos explorar itens estudados tanto na trilha 6 com o pacote **Tidyverse** quanto na trilha 7 com o pacote **ggplot2**.\n",
        "\n",
        "Algumas partes desta atividade já estão prontas, como por exemplo, o carregamento do conjunto de dados geral, a impressão dos escudos dos times e a segmentação de sub-conjuntos de dados para permitir uma manipulação mais simples na atividade.\n",
        "\n",
        "Começamos então, com a instalação do pacote *nflfastR* e os carregamentos dos pacotes necessários."
      ]
    },
    {
      "cell_type": "code",
      "metadata": {
        "id": "ekwPf47hbDn5",
        "colab": {
          "base_uri": "https://localhost:8080/",
          "height": 0
        },
        "outputId": "7d498976-63e6-4a37-c9a9-28dc911389f3"
      },
      "source": [
        "install.packages(\"nflfastR\")\n",
        "#install.packages(\"ggimage\")\n",
        "install.packages(\"imager\")\n"
      ],
      "execution_count": 1,
      "outputs": [
        {
          "metadata": {
            "tags": null
          },
          "name": "stderr",
          "output_type": "stream",
          "text": [
            "Installing package into ‘/usr/local/lib/R/site-library’\n",
            "(as ‘lib’ is unspecified)\n",
            "\n",
            "also installing the dependencies ‘RApiSerialize’, ‘stringfish’, ‘globals’, ‘listenv’, ‘parallelly’, ‘snakecase’, ‘qs’, ‘RcppParallel’, ‘fastrmodels’, ‘furrr’, ‘future’, ‘janitor’, ‘nflreadr’, ‘progressr’, ‘xgboost’\n",
            "\n",
            "\n",
            "Installing package into ‘/usr/local/lib/R/site-library’\n",
            "(as ‘lib’ is unspecified)\n",
            "\n",
            "also installing the dependencies ‘bmp’, ‘tiff’, ‘png’, ‘jpeg’, ‘readbitmap’, ‘downloader’, ‘igraph’\n",
            "\n",
            "\n"
          ]
        }
      ]
    },
    {
      "cell_type": "code",
      "metadata": {
        "id": "dVaSEYE9bO3i",
        "colab": {
          "base_uri": "https://localhost:8080/",
          "height": 0
        },
        "outputId": "080a5da8-3d52-448f-c01e-c3a980bd9d36"
      },
      "source": [
        "library(nflfastR)\n",
        "\n",
        "library(tidyverse)\n",
        "library(ggplot2)\n",
        "\n",
        "library(imager)\n",
        "#library(ggimage)"
      ],
      "execution_count": 2,
      "outputs": [
        {
          "output_type": "stream",
          "name": "stderr",
          "text": [
            "Warning message in system(\"timedatectl\", intern = TRUE):\n",
            "“running command 'timedatectl' had status 1”\n",
            "── \u001b[1mAttaching packages\u001b[22m ─────────────────────────────────────── tidyverse 1.3.1 ──\n",
            "\n",
            "\u001b[32m✔\u001b[39m \u001b[34mggplot2\u001b[39m 3.3.5     \u001b[32m✔\u001b[39m \u001b[34mpurrr  \u001b[39m 0.3.4\n",
            "\u001b[32m✔\u001b[39m \u001b[34mtibble \u001b[39m 3.1.6     \u001b[32m✔\u001b[39m \u001b[34mdplyr  \u001b[39m 1.0.7\n",
            "\u001b[32m✔\u001b[39m \u001b[34mtidyr  \u001b[39m 1.1.4     \u001b[32m✔\u001b[39m \u001b[34mstringr\u001b[39m 1.4.0\n",
            "\u001b[32m✔\u001b[39m \u001b[34mreadr  \u001b[39m 2.1.0     \u001b[32m✔\u001b[39m \u001b[34mforcats\u001b[39m 0.5.1\n",
            "\n",
            "── \u001b[1mConflicts\u001b[22m ────────────────────────────────────────── tidyverse_conflicts() ──\n",
            "\u001b[31m✖\u001b[39m \u001b[34mdplyr\u001b[39m::\u001b[32mfilter()\u001b[39m masks \u001b[34mstats\u001b[39m::filter()\n",
            "\u001b[31m✖\u001b[39m \u001b[34mdplyr\u001b[39m::\u001b[32mlag()\u001b[39m    masks \u001b[34mstats\u001b[39m::lag()\n",
            "\n",
            "Loading required package: magrittr\n",
            "\n",
            "\n",
            "Attaching package: ‘magrittr’\n",
            "\n",
            "\n",
            "The following object is masked from ‘package:purrr’:\n",
            "\n",
            "    set_names\n",
            "\n",
            "\n",
            "The following object is masked from ‘package:tidyr’:\n",
            "\n",
            "    extract\n",
            "\n",
            "\n",
            "\n",
            "Attaching package: ‘imager’\n",
            "\n",
            "\n",
            "The following object is masked from ‘package:magrittr’:\n",
            "\n",
            "    add\n",
            "\n",
            "\n",
            "The following object is masked from ‘package:stringr’:\n",
            "\n",
            "    boundary\n",
            "\n",
            "\n",
            "The following object is masked from ‘package:tidyr’:\n",
            "\n",
            "    fill\n",
            "\n",
            "\n",
            "The following objects are masked from ‘package:stats’:\n",
            "\n",
            "    convolve, spectrum\n",
            "\n",
            "\n",
            "The following object is masked from ‘package:graphics’:\n",
            "\n",
            "    frame\n",
            "\n",
            "\n",
            "The following object is masked from ‘package:base’:\n",
            "\n",
            "    save.image\n",
            "\n",
            "\n"
          ]
        }
      ]
    },
    {
      "cell_type": "markdown",
      "metadata": {
        "id": "Ykoj0eEZbDn8"
      },
      "source": [
        "Como este pacote permite baixar dados de todas as temporadas, jogada a jogada, desde 1999, faremos um recorte apenas de 2014. A escolha deste ano foi aleatória, mesmo que possa parecer que foi escolhido de forma proposital por ser ultimo ano no qual *Seattle Seahawks* ganhou o *Super Bowl* (que é o jogo final da temporada e define o vencedor do campeonato). Fique a vontade para escolher qualquer outro ano, caso deseje estudar. \n",
        "\n",
        ">Contudo, para este exercício de aprofundamento, **mantenha o ano de 2014**."
      ]
    },
    {
      "cell_type": "code",
      "metadata": {
        "id": "n44dj-LFbDn9"
      },
      "source": [
        "temporada <- load_pbp(2014) #Carregamento dos dados, jogada a jogada, de 2014"
      ],
      "execution_count": 3,
      "outputs": []
    },
    {
      "cell_type": "markdown",
      "metadata": {
        "id": "VGZFbz22bDn-"
      },
      "source": [
        "Repare que para a seleção do subconjunto de dados, foi informado o ano da temporada desejado.\n",
        "\n",
        "Poderiam ser um intervalo de outros anos, para isso, seria necessário definir o valor como **anoInicio:anoFim**, por exemplo: 2014:2018 e neste caso os dados seriam de 2014 até 2018.\n",
        "\n",
        "> temporada <- load_pbp(2014:2018)\n",
        "\n",
        "Repare que este conjunto de dados de pbp (*play-by-play* -- jogada a jogada) possui muitas variáveis. Ao chamar a função *names* colocando o nome do conjunto de dados, são retornadas todas as variáveis. Execute o bloco abaixo e conheça quais são estas variáveis."
      ]
    },
    {
      "cell_type": "code",
      "metadata": {
        "id": "t-AGKeMkbDoA"
      },
      "source": [
        "names(temporada)"
      ],
      "execution_count": null,
      "outputs": []
    },
    {
      "cell_type": "markdown",
      "metadata": {
        "id": "eqvOIBzabDoB"
      },
      "source": [
        "Para conhecer os times que jogam na NFL, é possível ter um retorno de dados básicos dos cada um deles. Este retorno básico pode ser transformado em um data frame, para posteriormente, ser utilizado como filtro da estrutura."
      ]
    },
    {
      "cell_type": "code",
      "metadata": {
        "id": "C0wbY1AqbDoC"
      },
      "source": [
        "times <- teams_colors_logos %>% unique()"
      ],
      "execution_count": 5,
      "outputs": []
    },
    {
      "cell_type": "code",
      "metadata": {
        "id": "A4AvesUVbDoC",
        "colab": {
          "base_uri": "https://localhost:8080/",
          "height": 34
        },
        "outputId": "d1da3bc3-bbba-4203-abf6-0de95a06b12f"
      },
      "source": [
        "names(times)"
      ],
      "execution_count": 6,
      "outputs": [
        {
          "output_type": "display_data",
          "data": {
            "text/plain": [
              " [1] \"team_abbr\"           \"team_name\"           \"team_id\"            \n",
              " [4] \"team_nick\"           \"team_color\"          \"team_color2\"        \n",
              " [7] \"team_color3\"         \"team_color4\"         \"team_logo_wikipedia\"\n",
              "[10] \"team_logo_espn\"      \"team_wordmark\"      "
            ],
            "text/latex": "\\begin{enumerate*}\n\\item 'team\\_abbr'\n\\item 'team\\_name'\n\\item 'team\\_id'\n\\item 'team\\_nick'\n\\item 'team\\_color'\n\\item 'team\\_color2'\n\\item 'team\\_color3'\n\\item 'team\\_color4'\n\\item 'team\\_logo\\_wikipedia'\n\\item 'team\\_logo\\_espn'\n\\item 'team\\_wordmark'\n\\end{enumerate*}\n",
            "text/markdown": "1. 'team_abbr'\n2. 'team_name'\n3. 'team_id'\n4. 'team_nick'\n5. 'team_color'\n6. 'team_color2'\n7. 'team_color3'\n8. 'team_color4'\n9. 'team_logo_wikipedia'\n10. 'team_logo_espn'\n11. 'team_wordmark'\n\n\n",
            "text/html": [
              "<style>\n",
              ".list-inline {list-style: none; margin:0; padding: 0}\n",
              ".list-inline>li {display: inline-block}\n",
              ".list-inline>li:not(:last-child)::after {content: \"\\00b7\"; padding: 0 .5ex}\n",
              "</style>\n",
              "<ol class=list-inline><li>'team_abbr'</li><li>'team_name'</li><li>'team_id'</li><li>'team_nick'</li><li>'team_color'</li><li>'team_color2'</li><li>'team_color3'</li><li>'team_color4'</li><li>'team_logo_wikipedia'</li><li>'team_logo_espn'</li><li>'team_wordmark'</li></ol>\n"
            ]
          },
          "metadata": {}
        }
      ]
    },
    {
      "cell_type": "markdown",
      "metadata": {
        "id": "AUpMZffHbDoD"
      },
      "source": [
        "Aproveitando que estamos observando os times, é possível mostrar todos os seus escudos e nomes.\n",
        "Para isso, execute o bloco de codigo abaixo, e veja como é a saída:"
      ]
    },
    {
      "cell_type": "code",
      "metadata": {
        "id": "hGgUU_5DbDoE"
      },
      "source": [
        "for (i in 1:dim(times)[1]){\n",
        "    par(mfrow=c(1,2))\n",
        "    load.image(as.character(times[i,'team_wordmark'])) %>% plot ;   \n",
        "    load.image(as.character(times[i,'team_logo_wikipedia'])) %>% plot ;   \n",
        "    print(paste(times[i,'team_name'],times[i,'team_abbr'],sep=' >> '));\n",
        "    par(mfrow=c(1,1))   \n",
        "}"
      ],
      "execution_count": null,
      "outputs": []
    },
    {
      "cell_type": "markdown",
      "metadata": {
        "id": "aZqVp8xubDoE"
      },
      "source": [
        "Vejam que é possível ter análises bem complexas e elaboradas, como por exemplo este bloco de código abaixo que foi adaptado do *Exemplo 5* de [Get Start with nflfastR](https://www.nflfastr.com/articles/nflfastR.html).\n",
        "\n",
        "> Não é objetivo desta disciplina de introdução exigir estes elementos. Coloquei aqui apenas para caráter informativo e mostrar que é possível realizar análises tão complexas quanto desejarmos."
      ]
    },
    {
      "cell_type": "code",
      "metadata": {
        "id": "9P7PhBcQbDoF"
      },
      "source": [
        "#offense <- temporada %>%\n",
        "#  dplyr::group_by(posteam) %>%\n",
        "#  dplyr::summarise(off_epa = mean(epa, na.rm = TRUE))\n",
        "\n",
        "#defense <- temporada %>%\n",
        "#  dplyr::group_by(defteam) %>%\n",
        "#  dplyr::summarise(def_epa = mean(epa, na.rm = TRUE))\n",
        "\n",
        "#logos <- teams_colors_logos %>% dplyr::select(team_abbr, team_logo_espn)\n",
        "\n",
        "#offense %>%\n",
        "#  dplyr::inner_join(defense, by = c(\"posteam\" = \"defteam\")) %>%\n",
        " # dplyr::inner_join(logos, by = c(\"posteam\" = \"team_abbr\")) %>%\n",
        " # ggplot2::ggplot(aes(x = off_epa, y = def_epa)) +\n",
        " # ggplot2::geom_abline(slope = -1.5, intercept = c(.4, .3, .2, .1, 0, -.1, -.2, -.3), alpha = .2) +\n",
        " # ggplot2::geom_hline(aes(yintercept = mean(off_epa)), color = \"red\", linetype = \"dashed\") +\n",
        " # ggplot2::geom_vline(aes(xintercept = mean(def_epa)), color = \"red\", linetype = \"dashed\") +\n",
        " # ggimage::geom_image(aes(image = team_logo_espn), size = 0.10, asp = 16 / 9) +\n",
        " # ggplot2::labs(\n",
        " #   x = \"Ataque EPA/jogada\",\n",
        " #   y = \"Defesa EPA/jogada\",\n",
        " #   caption = \"Dados: @nflfastR\",\n",
        " #   title = \"2014 NFL Ataque e Defesa EPA por jogada\"\n",
        " # ) +\n",
        " # ggplot2::theme_bw() +\n",
        " # ggplot2::theme(\n",
        " #   aspect.ratio = 9 / 16,\n",
        " #   plot.title = ggplot2::element_text(size = 12, hjust = 0.5, face = \"bold\")\n",
        " # ) +\n",
        " # ggplot2::scale_y_reverse()"
      ],
      "execution_count": 8,
      "outputs": []
    },
    {
      "cell_type": "markdown",
      "metadata": {
        "id": "IOi_4xy4bDoG"
      },
      "source": [
        "### Manipulação de dados  "
      ]
    },
    {
      "cell_type": "markdown",
      "metadata": {
        "id": "pmjNzU8abDoG"
      },
      "source": [
        "#### Criação dos *datasets* segmentados por variáveis  "
      ]
    },
    {
      "cell_type": "markdown",
      "metadata": {
        "id": "c3Jrri6SbDoG"
      },
      "source": [
        "**Pense no seguinte problema**. Sabendo que o time joga tanto em casa (*home_team*) quanto fora de casa (*away_team*), em qual semana o time escolhido ficou de folga. Ou seja, não há entrada de dados na variável *week*.\n",
        "\n",
        "Para esta atividade de aprofundamento mantenha o time 'SEA' escolhido, mesmo que você explore outras oportunidades posteriormente."
      ]
    },
    {
      "cell_type": "code",
      "metadata": {
        "id": "L5cCcoZvbDoH",
        "colab": {
          "base_uri": "https://localhost:8080/",
          "height": 459
        },
        "outputId": "1e4fc3a0-3612-404f-f840-2d29ce4ca8d4"
      },
      "source": [
        "timeEscolhido <- 'SEA'\n",
        "\n",
        "jogosTimeEscolhido <- temporada %>% filter(home_team == timeEscolhido | away_team == timeEscolhido)\n",
        "\n",
        "table(jogosTimeEscolhido$away_team, jogosTimeEscolhido$week)"
      ],
      "execution_count": 9,
      "outputs": [
        {
          "output_type": "display_data",
          "data": {
            "text/plain": [
              "     \n",
              "        1   2   3   5   6   7   8   9  10  11  12  13  14  15  16  17  19  20\n",
              "  ARI   0   0   0   0   0   0   0   0   0   0 154   0   0   0   0   0   0   0\n",
              "  CAR   0   0   0   0   0   0   0   0   0   0   0   0   0   0   0   0 167   0\n",
              "  DAL   0   0   0   0 173   0   0   0   0   0   0   0   0   0   0   0   0   0\n",
              "  DEN   0   0 203   0   0   0   0   0   0   0   0   0   0   0   0   0   0   0\n",
              "  GB  172   0   0   0   0   0   0   0   0   0   0   0   0   0   0   0   0 192\n",
              "  LA    0   0   0   0   0   0   0   0   0   0   0   0   0   0   0 163   0   0\n",
              "  LV    0   0   0   0   0   0   0 196   0   0   0   0   0   0   0   0   0   0\n",
              "  NE    0   0   0   0   0   0   0   0   0   0   0   0   0   0   0   0   0   0\n",
              "  NYG   0   0   0   0   0   0   0   0 172   0   0   0   0   0   0   0   0   0\n",
              "  SEA   0 167   0 177   0 168 157   0   0 167   0 164 182   0 202   0   0   0\n",
              "  SF    0   0   0   0   0   0   0   0   0   0   0   0   0 164   0   0   0   0\n",
              "     \n",
              "       21\n",
              "  ARI   0\n",
              "  CAR   0\n",
              "  DAL   0\n",
              "  DEN   0\n",
              "  GB    0\n",
              "  LA    0\n",
              "  LV    0\n",
              "  NE  192\n",
              "  NYG   0\n",
              "  SEA   0\n",
              "  SF    0"
            ]
          },
          "metadata": {}
        }
      ]
    },
    {
      "cell_type": "markdown",
      "metadata": {
        "id": "W_H1IMBbbDoH"
      },
      "source": [
        "Criação dos datasets específicos, segmentando o dataset original, para facilitar a manipulação dos dados e responder às perguntas de negócio.\n",
        "\n",
        "Utilizando o pacote **Tidyverse**, crie novos conjuntos de dados a partir da função *select*. Garanta que todos datasets estejam fazendo um filtro apenas da semana 1.\n",
        "> Dica: para o filtro da semana 1, utilize a condição **week==1** na função *filter*\n",
        "\n",
        "**jogo** com as variáveis *play_id*, *home_team*, *away_team*, *away_score*, *home_score*, *total*\n",
        "\n",
        "**acoesJogadas** com as variáveis *play_id*, *rush_attempt*, pass_attempt*, *field_goal_attempt*, *down*, *time*, *qtr*, *ydstogo*, *yards_gained* \n",
        "\n",
        "**pontuacaoJogadas** com as variáveis *play_id*, *posteam*, *defteam*, *posteam_score*, *defteam_score*, *rush*, *pass*, *name*, *passer*, *rusher*, *receiver*, *interception*, *play_type*, *pass_length*, *air_yards*, *kick_distance*, *drive*, *touchdown*, *td_team*\n",
        "\n",
        "**descricaoJogadas** com as variáveis *play_id*,*desc*, *passer_player_name*, *passing_yards*, *receiver_player_name*, *punt_returner_player_name*,*name*\n",
        "\n",
        "\n",
        "> Repare que **TODOS** conjuntos de dados criados possuem a variável *play_id*, porque ela fará o relacionamento entre os conjuntos de dados, caso você queria/precise combinar conjuntos de dados para chegar à uma solução "
      ]
    },
    {
      "cell_type": "code",
      "metadata": {
        "id": "b_iECSh1bDoH"
      },
      "source": [
        "jogo <- jogosTimeEscolhido %>%\n",
        "    filter(week==1) %>%\n",
        "    select(play_id,\n",
        "           home_team, away_team, away_score, home_score, total\n",
        "          )"
      ],
      "execution_count": 10,
      "outputs": []
    },
    {
      "cell_type": "code",
      "metadata": {
        "id": "hRZbytLdbDoI"
      },
      "source": [
        "acoesJogadas <- jogosTimeEscolhido %>%\n",
        "    filter(week==1) %>%\n",
        "    select(play_id,\n",
        "           rush_attempt, pass_attempt, field_goal_attempt, down, time, qtr, ydstogo, yards_gained\n",
        "          )"
      ],
      "execution_count": 11,
      "outputs": []
    },
    {
      "cell_type": "code",
      "metadata": {
        "id": "Y1-BLhqsbDoI"
      },
      "source": [
        "pontuacaoJogadas <- jogosTimeEscolhido %>%\n",
        "    filter(week==1) %>%\n",
        "    select(play_id,\n",
        "           posteam, defteam, posteam_score, defteam_score, rush, pass, passer, rusher, receiver, interception, play_type, pass_length, air_yards, kick_distance, drive, touchdown, td_team, name\n",
        "          )"
      ],
      "execution_count": 12,
      "outputs": []
    },
    {
      "cell_type": "code",
      "metadata": {
        "id": "5-ikY7UzbDoJ"
      },
      "source": [
        "descricaoJogadas <- jogosTimeEscolhido %>%\n",
        "    filter(week==1) %>%\n",
        "    select(play_id,\n",
        "           desc, passer_player_name, passing_yards, receiver_player_name, punt_returner_player_name, name        \n",
        "          )"
      ],
      "execution_count": 13,
      "outputs": []
    },
    {
      "cell_type": "code",
      "metadata": {
        "id": "DsiIRMhjbDoJ",
        "colab": {
          "base_uri": "https://localhost:8080/",
          "height": 1071
        },
        "outputId": "b2e8f423-4a8e-4433-ed37-93dd472e6c5b"
      },
      "source": [
        "head(jogo)\n",
        "head(acoesJogadas)\n",
        "head(pontuacaoJogadas)\n",
        "head(descricaoJogadas)"
      ],
      "execution_count": 14,
      "outputs": [
        {
          "output_type": "display_data",
          "data": {
            "text/plain": [
              "  play_id home_team away_team away_score home_score total\n",
              "1   1     SEA       GB        16         36         52   \n",
              "2  36     SEA       GB        16         36         52   \n",
              "3  58     SEA       GB        16         36         52   \n",
              "4  79     SEA       GB        16         36         52   \n",
              "5 111     SEA       GB        16         36         52   \n",
              "6 132     SEA       GB        16         36         52   "
            ],
            "text/latex": "A tibble: 6 × 6\n\\begin{tabular}{llllll}\n play\\_id & home\\_team & away\\_team & away\\_score & home\\_score & total\\\\\n <dbl> & <chr> & <chr> & <int> & <int> & <int>\\\\\n\\hline\n\t   1 & SEA & GB & 16 & 36 & 52\\\\\n\t  36 & SEA & GB & 16 & 36 & 52\\\\\n\t  58 & SEA & GB & 16 & 36 & 52\\\\\n\t  79 & SEA & GB & 16 & 36 & 52\\\\\n\t 111 & SEA & GB & 16 & 36 & 52\\\\\n\t 132 & SEA & GB & 16 & 36 & 52\\\\\n\\end{tabular}\n",
            "text/markdown": "\nA tibble: 6 × 6\n\n| play_id &lt;dbl&gt; | home_team &lt;chr&gt; | away_team &lt;chr&gt; | away_score &lt;int&gt; | home_score &lt;int&gt; | total &lt;int&gt; |\n|---|---|---|---|---|---|\n|   1 | SEA | GB | 16 | 36 | 52 |\n|  36 | SEA | GB | 16 | 36 | 52 |\n|  58 | SEA | GB | 16 | 36 | 52 |\n|  79 | SEA | GB | 16 | 36 | 52 |\n| 111 | SEA | GB | 16 | 36 | 52 |\n| 132 | SEA | GB | 16 | 36 | 52 |\n\n",
            "text/html": [
              "<table class=\"dataframe\">\n",
              "<caption>A tibble: 6 × 6</caption>\n",
              "<thead>\n",
              "\t<tr><th scope=col>play_id</th><th scope=col>home_team</th><th scope=col>away_team</th><th scope=col>away_score</th><th scope=col>home_score</th><th scope=col>total</th></tr>\n",
              "\t<tr><th scope=col>&lt;dbl&gt;</th><th scope=col>&lt;chr&gt;</th><th scope=col>&lt;chr&gt;</th><th scope=col>&lt;int&gt;</th><th scope=col>&lt;int&gt;</th><th scope=col>&lt;int&gt;</th></tr>\n",
              "</thead>\n",
              "<tbody>\n",
              "\t<tr><td>  1</td><td>SEA</td><td>GB</td><td>16</td><td>36</td><td>52</td></tr>\n",
              "\t<tr><td> 36</td><td>SEA</td><td>GB</td><td>16</td><td>36</td><td>52</td></tr>\n",
              "\t<tr><td> 58</td><td>SEA</td><td>GB</td><td>16</td><td>36</td><td>52</td></tr>\n",
              "\t<tr><td> 79</td><td>SEA</td><td>GB</td><td>16</td><td>36</td><td>52</td></tr>\n",
              "\t<tr><td>111</td><td>SEA</td><td>GB</td><td>16</td><td>36</td><td>52</td></tr>\n",
              "\t<tr><td>132</td><td>SEA</td><td>GB</td><td>16</td><td>36</td><td>52</td></tr>\n",
              "</tbody>\n",
              "</table>\n"
            ]
          },
          "metadata": {}
        },
        {
          "output_type": "display_data",
          "data": {
            "text/plain": [
              "  play_id rush_attempt pass_attempt field_goal_attempt down time  qtr ydstogo\n",
              "1   1     NA           NA           NA                 NA   15:00 1    0     \n",
              "2  36      0            0            0                 NA   15:00 1    0     \n",
              "3  58      1            0            0                  1   14:56 1   10     \n",
              "4  79      0            0            0                  2   14:30 1    4     \n",
              "5 111      1            0            0                  1   14:11 1   10     \n",
              "6 132      1            0            0                  1   13:32 1   10     \n",
              "  yards_gained\n",
              "1 NA          \n",
              "2  0          \n",
              "3  6          \n",
              "4  0          \n",
              "5 15          \n",
              "6  2          "
            ],
            "text/latex": "A tibble: 6 × 9\n\\begin{tabular}{lllllllll}\n play\\_id & rush\\_attempt & pass\\_attempt & field\\_goal\\_attempt & down & time & qtr & ydstogo & yards\\_gained\\\\\n <dbl> & <dbl> & <dbl> & <dbl> & <dbl> & <chr> & <dbl> & <dbl> & <dbl>\\\\\n\\hline\n\t   1 & NA & NA & NA & NA & 15:00 & 1 &  0 & NA\\\\\n\t  36 &  0 &  0 &  0 & NA & 15:00 & 1 &  0 &  0\\\\\n\t  58 &  1 &  0 &  0 &  1 & 14:56 & 1 & 10 &  6\\\\\n\t  79 &  0 &  0 &  0 &  2 & 14:30 & 1 &  4 &  0\\\\\n\t 111 &  1 &  0 &  0 &  1 & 14:11 & 1 & 10 & 15\\\\\n\t 132 &  1 &  0 &  0 &  1 & 13:32 & 1 & 10 &  2\\\\\n\\end{tabular}\n",
            "text/markdown": "\nA tibble: 6 × 9\n\n| play_id &lt;dbl&gt; | rush_attempt &lt;dbl&gt; | pass_attempt &lt;dbl&gt; | field_goal_attempt &lt;dbl&gt; | down &lt;dbl&gt; | time &lt;chr&gt; | qtr &lt;dbl&gt; | ydstogo &lt;dbl&gt; | yards_gained &lt;dbl&gt; |\n|---|---|---|---|---|---|---|---|---|\n|   1 | NA | NA | NA | NA | 15:00 | 1 |  0 | NA |\n|  36 |  0 |  0 |  0 | NA | 15:00 | 1 |  0 |  0 |\n|  58 |  1 |  0 |  0 |  1 | 14:56 | 1 | 10 |  6 |\n|  79 |  0 |  0 |  0 |  2 | 14:30 | 1 |  4 |  0 |\n| 111 |  1 |  0 |  0 |  1 | 14:11 | 1 | 10 | 15 |\n| 132 |  1 |  0 |  0 |  1 | 13:32 | 1 | 10 |  2 |\n\n",
            "text/html": [
              "<table class=\"dataframe\">\n",
              "<caption>A tibble: 6 × 9</caption>\n",
              "<thead>\n",
              "\t<tr><th scope=col>play_id</th><th scope=col>rush_attempt</th><th scope=col>pass_attempt</th><th scope=col>field_goal_attempt</th><th scope=col>down</th><th scope=col>time</th><th scope=col>qtr</th><th scope=col>ydstogo</th><th scope=col>yards_gained</th></tr>\n",
              "\t<tr><th scope=col>&lt;dbl&gt;</th><th scope=col>&lt;dbl&gt;</th><th scope=col>&lt;dbl&gt;</th><th scope=col>&lt;dbl&gt;</th><th scope=col>&lt;dbl&gt;</th><th scope=col>&lt;chr&gt;</th><th scope=col>&lt;dbl&gt;</th><th scope=col>&lt;dbl&gt;</th><th scope=col>&lt;dbl&gt;</th></tr>\n",
              "</thead>\n",
              "<tbody>\n",
              "\t<tr><td>  1</td><td>NA</td><td>NA</td><td>NA</td><td>NA</td><td>15:00</td><td>1</td><td> 0</td><td>NA</td></tr>\n",
              "\t<tr><td> 36</td><td> 0</td><td> 0</td><td> 0</td><td>NA</td><td>15:00</td><td>1</td><td> 0</td><td> 0</td></tr>\n",
              "\t<tr><td> 58</td><td> 1</td><td> 0</td><td> 0</td><td> 1</td><td>14:56</td><td>1</td><td>10</td><td> 6</td></tr>\n",
              "\t<tr><td> 79</td><td> 0</td><td> 0</td><td> 0</td><td> 2</td><td>14:30</td><td>1</td><td> 4</td><td> 0</td></tr>\n",
              "\t<tr><td>111</td><td> 1</td><td> 0</td><td> 0</td><td> 1</td><td>14:11</td><td>1</td><td>10</td><td>15</td></tr>\n",
              "\t<tr><td>132</td><td> 1</td><td> 0</td><td> 0</td><td> 1</td><td>13:32</td><td>1</td><td>10</td><td> 2</td></tr>\n",
              "</tbody>\n",
              "</table>\n"
            ]
          },
          "metadata": {}
        },
        {
          "output_type": "display_data",
          "data": {
            "text/plain": [
              "  play_id posteam defteam posteam_score defteam_score rush pass passer rusher  \n",
              "1   1     NA      NA      NA            NA            0    0    NA     NA      \n",
              "2  36     GB      SEA      0             0            0    0    NA     NA      \n",
              "3  58     GB      SEA      0             0            1    0    NA     E.Lacy  \n",
              "4  79     GB      SEA      0             0            1    0    NA     E.Lacy  \n",
              "5 111     GB      SEA      0             0            1    0    NA     E.Lacy  \n",
              "6 132     GB      SEA      0             0            1    0    NA     J.Starks\n",
              "  receiver interception play_type pass_length air_yards kick_distance drive\n",
              "1 NA       NA           NA        NA          NA        NA            NA   \n",
              "2 NA        0           kickoff   NA          NA        NA             1   \n",
              "3 NA        0           run       NA          NA        NA             1   \n",
              "4 NA        0           no_play   NA          NA        NA             1   \n",
              "5 NA        0           run       NA          NA        NA             1   \n",
              "6 NA        0           run       NA          NA        NA             1   \n",
              "  touchdown td_team name    \n",
              "1 NA        NA      NA      \n",
              "2  0        NA      NA      \n",
              "3  0        NA      E.Lacy  \n",
              "4  0        NA      E.Lacy  \n",
              "5  0        NA      E.Lacy  \n",
              "6  0        NA      J.Starks"
            ],
            "text/latex": "A tibble: 6 × 19\n\\begin{tabular}{lllllllllllllllllll}\n play\\_id & posteam & defteam & posteam\\_score & defteam\\_score & rush & pass & passer & rusher & receiver & interception & play\\_type & pass\\_length & air\\_yards & kick\\_distance & drive & touchdown & td\\_team & name\\\\\n <dbl> & <chr> & <chr> & <dbl> & <dbl> & <dbl> & <dbl> & <chr> & <chr> & <chr> & <dbl> & <chr> & <chr> & <dbl> & <dbl> & <dbl> & <dbl> & <chr> & <chr>\\\\\n\\hline\n\t   1 & NA & NA  & NA & NA & 0 & 0 & NA & NA       & NA & NA & NA      & NA & NA & NA & NA & NA & NA & NA      \\\\\n\t  36 & GB & SEA &  0 &  0 & 0 & 0 & NA & NA       & NA &  0 & kickoff & NA & NA & NA &  1 &  0 & NA & NA      \\\\\n\t  58 & GB & SEA &  0 &  0 & 1 & 0 & NA & E.Lacy   & NA &  0 & run     & NA & NA & NA &  1 &  0 & NA & E.Lacy  \\\\\n\t  79 & GB & SEA &  0 &  0 & 1 & 0 & NA & E.Lacy   & NA &  0 & no\\_play & NA & NA & NA &  1 &  0 & NA & E.Lacy  \\\\\n\t 111 & GB & SEA &  0 &  0 & 1 & 0 & NA & E.Lacy   & NA &  0 & run     & NA & NA & NA &  1 &  0 & NA & E.Lacy  \\\\\n\t 132 & GB & SEA &  0 &  0 & 1 & 0 & NA & J.Starks & NA &  0 & run     & NA & NA & NA &  1 &  0 & NA & J.Starks\\\\\n\\end{tabular}\n",
            "text/markdown": "\nA tibble: 6 × 19\n\n| play_id &lt;dbl&gt; | posteam &lt;chr&gt; | defteam &lt;chr&gt; | posteam_score &lt;dbl&gt; | defteam_score &lt;dbl&gt; | rush &lt;dbl&gt; | pass &lt;dbl&gt; | passer &lt;chr&gt; | rusher &lt;chr&gt; | receiver &lt;chr&gt; | interception &lt;dbl&gt; | play_type &lt;chr&gt; | pass_length &lt;chr&gt; | air_yards &lt;dbl&gt; | kick_distance &lt;dbl&gt; | drive &lt;dbl&gt; | touchdown &lt;dbl&gt; | td_team &lt;chr&gt; | name &lt;chr&gt; |\n|---|---|---|---|---|---|---|---|---|---|---|---|---|---|---|---|---|---|---|\n|   1 | NA | NA  | NA | NA | 0 | 0 | NA | NA       | NA | NA | NA      | NA | NA | NA | NA | NA | NA | NA       |\n|  36 | GB | SEA |  0 |  0 | 0 | 0 | NA | NA       | NA |  0 | kickoff | NA | NA | NA |  1 |  0 | NA | NA       |\n|  58 | GB | SEA |  0 |  0 | 1 | 0 | NA | E.Lacy   | NA |  0 | run     | NA | NA | NA |  1 |  0 | NA | E.Lacy   |\n|  79 | GB | SEA |  0 |  0 | 1 | 0 | NA | E.Lacy   | NA |  0 | no_play | NA | NA | NA |  1 |  0 | NA | E.Lacy   |\n| 111 | GB | SEA |  0 |  0 | 1 | 0 | NA | E.Lacy   | NA |  0 | run     | NA | NA | NA |  1 |  0 | NA | E.Lacy   |\n| 132 | GB | SEA |  0 |  0 | 1 | 0 | NA | J.Starks | NA |  0 | run     | NA | NA | NA |  1 |  0 | NA | J.Starks |\n\n",
            "text/html": [
              "<table class=\"dataframe\">\n",
              "<caption>A tibble: 6 × 19</caption>\n",
              "<thead>\n",
              "\t<tr><th scope=col>play_id</th><th scope=col>posteam</th><th scope=col>defteam</th><th scope=col>posteam_score</th><th scope=col>defteam_score</th><th scope=col>rush</th><th scope=col>pass</th><th scope=col>passer</th><th scope=col>rusher</th><th scope=col>receiver</th><th scope=col>interception</th><th scope=col>play_type</th><th scope=col>pass_length</th><th scope=col>air_yards</th><th scope=col>kick_distance</th><th scope=col>drive</th><th scope=col>touchdown</th><th scope=col>td_team</th><th scope=col>name</th></tr>\n",
              "\t<tr><th scope=col>&lt;dbl&gt;</th><th scope=col>&lt;chr&gt;</th><th scope=col>&lt;chr&gt;</th><th scope=col>&lt;dbl&gt;</th><th scope=col>&lt;dbl&gt;</th><th scope=col>&lt;dbl&gt;</th><th scope=col>&lt;dbl&gt;</th><th scope=col>&lt;chr&gt;</th><th scope=col>&lt;chr&gt;</th><th scope=col>&lt;chr&gt;</th><th scope=col>&lt;dbl&gt;</th><th scope=col>&lt;chr&gt;</th><th scope=col>&lt;chr&gt;</th><th scope=col>&lt;dbl&gt;</th><th scope=col>&lt;dbl&gt;</th><th scope=col>&lt;dbl&gt;</th><th scope=col>&lt;dbl&gt;</th><th scope=col>&lt;chr&gt;</th><th scope=col>&lt;chr&gt;</th></tr>\n",
              "</thead>\n",
              "<tbody>\n",
              "\t<tr><td>  1</td><td>NA</td><td>NA </td><td>NA</td><td>NA</td><td>0</td><td>0</td><td>NA</td><td>NA      </td><td>NA</td><td>NA</td><td>NA     </td><td>NA</td><td>NA</td><td>NA</td><td>NA</td><td>NA</td><td>NA</td><td>NA      </td></tr>\n",
              "\t<tr><td> 36</td><td>GB</td><td>SEA</td><td> 0</td><td> 0</td><td>0</td><td>0</td><td>NA</td><td>NA      </td><td>NA</td><td> 0</td><td>kickoff</td><td>NA</td><td>NA</td><td>NA</td><td> 1</td><td> 0</td><td>NA</td><td>NA      </td></tr>\n",
              "\t<tr><td> 58</td><td>GB</td><td>SEA</td><td> 0</td><td> 0</td><td>1</td><td>0</td><td>NA</td><td>E.Lacy  </td><td>NA</td><td> 0</td><td>run    </td><td>NA</td><td>NA</td><td>NA</td><td> 1</td><td> 0</td><td>NA</td><td>E.Lacy  </td></tr>\n",
              "\t<tr><td> 79</td><td>GB</td><td>SEA</td><td> 0</td><td> 0</td><td>1</td><td>0</td><td>NA</td><td>E.Lacy  </td><td>NA</td><td> 0</td><td>no_play</td><td>NA</td><td>NA</td><td>NA</td><td> 1</td><td> 0</td><td>NA</td><td>E.Lacy  </td></tr>\n",
              "\t<tr><td>111</td><td>GB</td><td>SEA</td><td> 0</td><td> 0</td><td>1</td><td>0</td><td>NA</td><td>E.Lacy  </td><td>NA</td><td> 0</td><td>run    </td><td>NA</td><td>NA</td><td>NA</td><td> 1</td><td> 0</td><td>NA</td><td>E.Lacy  </td></tr>\n",
              "\t<tr><td>132</td><td>GB</td><td>SEA</td><td> 0</td><td> 0</td><td>1</td><td>0</td><td>NA</td><td>J.Starks</td><td>NA</td><td> 0</td><td>run    </td><td>NA</td><td>NA</td><td>NA</td><td> 1</td><td> 0</td><td>NA</td><td>J.Starks</td></tr>\n",
              "</tbody>\n",
              "</table>\n"
            ]
          },
          "metadata": {}
        },
        {
          "output_type": "display_data",
          "data": {
            "text/plain": [
              "  play_id\n",
              "1   1    \n",
              "2  36    \n",
              "3  58    \n",
              "4  79    \n",
              "5 111    \n",
              "6 132    \n",
              "  desc                                                                                                                                                               \n",
              "1 GAME                                                                                                                                                               \n",
              "2 4-S.Hauschka kicks 71 yards from SEA 35 to GB -6. 26-D.Harris to GB 13 for 19 yards (57-M.Morgan).                                                                 \n",
              "3 (14:56) 27-E.Lacy right tackle to GB 19 for 6 yards (94-K.Williams).                                                                                               \n",
              "4 (14:30) 27-E.Lacy left tackle to GB 22 for 3 yards (56-C.Avril, 50-K.Wright). PENALTY on SEA-72-M.Bennett, Defensive Offside, 5 yards, enforced at GB 19 - No Play.\n",
              "5 (14:11) (Shotgun) 27-E.Lacy up the middle to GB 39 for 15 yards (54-B.Wagner).                                                                                     \n",
              "6 (13:32) (No Huddle) 44-J.Starks right guard to GB 41 for 2 yards (31-K.Chancellor, 50-K.Wright).                                                                   \n",
              "  passer_player_name passing_yards receiver_player_name\n",
              "1 NA                 NA            NA                  \n",
              "2 NA                 NA            NA                  \n",
              "3 NA                 NA            NA                  \n",
              "4 NA                 NA            NA                  \n",
              "5 NA                 NA            NA                  \n",
              "6 NA                 NA            NA                  \n",
              "  punt_returner_player_name name    \n",
              "1 NA                        NA      \n",
              "2 NA                        NA      \n",
              "3 NA                        E.Lacy  \n",
              "4 NA                        E.Lacy  \n",
              "5 NA                        E.Lacy  \n",
              "6 NA                        J.Starks"
            ],
            "text/latex": "A tibble: 6 × 7\n\\begin{tabular}{lllllll}\n play\\_id & desc & passer\\_player\\_name & passing\\_yards & receiver\\_player\\_name & punt\\_returner\\_player\\_name & name\\\\\n <dbl> & <chr> & <chr> & <dbl> & <chr> & <chr> & <chr>\\\\\n\\hline\n\t   1 & GAME                                                                                                                                                                & NA & NA & NA & NA & NA      \\\\\n\t  36 & 4-S.Hauschka kicks 71 yards from SEA 35 to GB -6. 26-D.Harris to GB 13 for 19 yards (57-M.Morgan).                                                                  & NA & NA & NA & NA & NA      \\\\\n\t  58 & (14:56) 27-E.Lacy right tackle to GB 19 for 6 yards (94-K.Williams).                                                                                                & NA & NA & NA & NA & E.Lacy  \\\\\n\t  79 & (14:30) 27-E.Lacy left tackle to GB 22 for 3 yards (56-C.Avril, 50-K.Wright). PENALTY on SEA-72-M.Bennett, Defensive Offside, 5 yards, enforced at GB 19 - No Play. & NA & NA & NA & NA & E.Lacy  \\\\\n\t 111 & (14:11) (Shotgun) 27-E.Lacy up the middle to GB 39 for 15 yards (54-B.Wagner).                                                                                      & NA & NA & NA & NA & E.Lacy  \\\\\n\t 132 & (13:32) (No Huddle) 44-J.Starks right guard to GB 41 for 2 yards (31-K.Chancellor, 50-K.Wright).                                                                    & NA & NA & NA & NA & J.Starks\\\\\n\\end{tabular}\n",
            "text/markdown": "\nA tibble: 6 × 7\n\n| play_id &lt;dbl&gt; | desc &lt;chr&gt; | passer_player_name &lt;chr&gt; | passing_yards &lt;dbl&gt; | receiver_player_name &lt;chr&gt; | punt_returner_player_name &lt;chr&gt; | name &lt;chr&gt; |\n|---|---|---|---|---|---|---|\n|   1 | GAME                                                                                                                                                                | NA | NA | NA | NA | NA       |\n|  36 | 4-S.Hauschka kicks 71 yards from SEA 35 to GB -6. 26-D.Harris to GB 13 for 19 yards (57-M.Morgan).                                                                  | NA | NA | NA | NA | NA       |\n|  58 | (14:56) 27-E.Lacy right tackle to GB 19 for 6 yards (94-K.Williams).                                                                                                | NA | NA | NA | NA | E.Lacy   |\n|  79 | (14:30) 27-E.Lacy left tackle to GB 22 for 3 yards (56-C.Avril, 50-K.Wright). PENALTY on SEA-72-M.Bennett, Defensive Offside, 5 yards, enforced at GB 19 - No Play. | NA | NA | NA | NA | E.Lacy   |\n| 111 | (14:11) (Shotgun) 27-E.Lacy up the middle to GB 39 for 15 yards (54-B.Wagner).                                                                                      | NA | NA | NA | NA | E.Lacy   |\n| 132 | (13:32) (No Huddle) 44-J.Starks right guard to GB 41 for 2 yards (31-K.Chancellor, 50-K.Wright).                                                                    | NA | NA | NA | NA | J.Starks |\n\n",
            "text/html": [
              "<table class=\"dataframe\">\n",
              "<caption>A tibble: 6 × 7</caption>\n",
              "<thead>\n",
              "\t<tr><th scope=col>play_id</th><th scope=col>desc</th><th scope=col>passer_player_name</th><th scope=col>passing_yards</th><th scope=col>receiver_player_name</th><th scope=col>punt_returner_player_name</th><th scope=col>name</th></tr>\n",
              "\t<tr><th scope=col>&lt;dbl&gt;</th><th scope=col>&lt;chr&gt;</th><th scope=col>&lt;chr&gt;</th><th scope=col>&lt;dbl&gt;</th><th scope=col>&lt;chr&gt;</th><th scope=col>&lt;chr&gt;</th><th scope=col>&lt;chr&gt;</th></tr>\n",
              "</thead>\n",
              "<tbody>\n",
              "\t<tr><td>  1</td><td>GAME                                                                                                                                                               </td><td>NA</td><td>NA</td><td>NA</td><td>NA</td><td>NA      </td></tr>\n",
              "\t<tr><td> 36</td><td>4-S.Hauschka kicks 71 yards from SEA 35 to GB -6. 26-D.Harris to GB 13 for 19 yards (57-M.Morgan).                                                                 </td><td>NA</td><td>NA</td><td>NA</td><td>NA</td><td>NA      </td></tr>\n",
              "\t<tr><td> 58</td><td>(14:56) 27-E.Lacy right tackle to GB 19 for 6 yards (94-K.Williams).                                                                                               </td><td>NA</td><td>NA</td><td>NA</td><td>NA</td><td>E.Lacy  </td></tr>\n",
              "\t<tr><td> 79</td><td>(14:30) 27-E.Lacy left tackle to GB 22 for 3 yards (56-C.Avril, 50-K.Wright). PENALTY on SEA-72-M.Bennett, Defensive Offside, 5 yards, enforced at GB 19 - No Play.</td><td>NA</td><td>NA</td><td>NA</td><td>NA</td><td>E.Lacy  </td></tr>\n",
              "\t<tr><td>111</td><td>(14:11) (Shotgun) 27-E.Lacy up the middle to GB 39 for 15 yards (54-B.Wagner).                                                                                     </td><td>NA</td><td>NA</td><td>NA</td><td>NA</td><td>E.Lacy  </td></tr>\n",
              "\t<tr><td>132</td><td>(13:32) (No Huddle) 44-J.Starks right guard to GB 41 for 2 yards (31-K.Chancellor, 50-K.Wright).                                                                   </td><td>NA</td><td>NA</td><td>NA</td><td>NA</td><td>J.Starks</td></tr>\n",
              "</tbody>\n",
              "</table>\n"
            ]
          },
          "metadata": {}
        }
      ]
    },
    {
      "cell_type": "markdown",
      "metadata": {
        "id": "m7nu3jKkbDoJ"
      },
      "source": [
        "O uso da função *inner_join* no pacote **Tidyverse** é muito útil para combinar conjunto de dados. Veja, nos exemplos abaixo, como fica a combinação destes *datasets* que foram criados anteriormente.\n",
        "\n",
        "Pense nos seguintes desafios:\n",
        "\n",
        "**1)** Combinar o resultado de **pontuacaoJogadas** que tem a informação de quando um time fez *touchdown* (significa que marcou 6 pontos no jogo) e **descricaoJogadas** onde há uma descrição da jogada. Estes conjuntos de dados estão segmentados, cada um deles possui uma parte da informação. Ao combinar estes dois conjuntos de dados é possível ter todas as variáveis juntas como se fossem um único *dataset*. Eles se combinam a partir da variável *play_id*, que é comum entre eles. A partir desta combinação, a manipulação é similar ao que já foi estudado anteriormente."
      ]
    },
    {
      "cell_type": "code",
      "metadata": {
        "id": "Gk5Eh_LYbDoK",
        "colab": {
          "base_uri": "https://localhost:8080/",
          "height": 283
        },
        "outputId": "a33f17f1-78e7-4818-825d-38c0a034ec2b"
      },
      "source": [
        "pontuacaoJogadas %>% #primeiro dataset \n",
        "inner_join(descricaoJogadas, by='play_id') %>% #segundo dataset combinando com o primeiro\n",
        "select(play_id, posteam, touchdown, td_team, desc) %>% #seleção de variáveis\n",
        "filter(touchdown == 1) #filtro de dados"
      ],
      "execution_count": 15,
      "outputs": [
        {
          "output_type": "display_data",
          "data": {
            "text/plain": [
              "  play_id posteam touchdown td_team\n",
              "1  802    GB      1         GB     \n",
              "2 1032    SEA     1         SEA    \n",
              "3 1560    SEA     1         SEA    \n",
              "4 2965    SEA     1         SEA    \n",
              "5 3268    GB      1         GB     \n",
              "6 3662    SEA     1         SEA    \n",
              "  desc                                                                                  \n",
              "1 (1:30) 30-J.Kuhn left guard for 2 yards, TOUCHDOWN.                                   \n",
              "2 (13:08) (Shotgun) 3-R.Wilson pass short left to 83-R.Lockette for 33 yards, TOUCHDOWN.\n",
              "3 (3:46) (Shotgun) 24-M.Lynch up the middle for 9 yards, TOUCHDOWN.                     \n",
              "4 (15:00) 24-M.Lynch left tackle for 3 yards, TOUCHDOWN.                                \n",
              "5 (9:37) 12-A.Rodgers pass short right to 18-R.Cobb for 3 yards, TOUCHDOWN.             \n",
              "6 (2:37) 3-R.Wilson pass short left to 40-D.Coleman for 15 yards, TOUCHDOWN.            "
            ],
            "text/latex": "A tibble: 6 × 5\n\\begin{tabular}{lllll}\n play\\_id & posteam & touchdown & td\\_team & desc\\\\\n <dbl> & <chr> & <dbl> & <chr> & <chr>\\\\\n\\hline\n\t  802 & GB  & 1 & GB  & (1:30) 30-J.Kuhn left guard for 2 yards, TOUCHDOWN.                                   \\\\\n\t 1032 & SEA & 1 & SEA & (13:08) (Shotgun) 3-R.Wilson pass short left to 83-R.Lockette for 33 yards, TOUCHDOWN.\\\\\n\t 1560 & SEA & 1 & SEA & (3:46) (Shotgun) 24-M.Lynch up the middle for 9 yards, TOUCHDOWN.                     \\\\\n\t 2965 & SEA & 1 & SEA & (15:00) 24-M.Lynch left tackle for 3 yards, TOUCHDOWN.                                \\\\\n\t 3268 & GB  & 1 & GB  & (9:37) 12-A.Rodgers pass short right to 18-R.Cobb for 3 yards, TOUCHDOWN.             \\\\\n\t 3662 & SEA & 1 & SEA & (2:37) 3-R.Wilson pass short left to 40-D.Coleman for 15 yards, TOUCHDOWN.            \\\\\n\\end{tabular}\n",
            "text/markdown": "\nA tibble: 6 × 5\n\n| play_id &lt;dbl&gt; | posteam &lt;chr&gt; | touchdown &lt;dbl&gt; | td_team &lt;chr&gt; | desc &lt;chr&gt; |\n|---|---|---|---|---|\n|  802 | GB  | 1 | GB  | (1:30) 30-J.Kuhn left guard for 2 yards, TOUCHDOWN.                                    |\n| 1032 | SEA | 1 | SEA | (13:08) (Shotgun) 3-R.Wilson pass short left to 83-R.Lockette for 33 yards, TOUCHDOWN. |\n| 1560 | SEA | 1 | SEA | (3:46) (Shotgun) 24-M.Lynch up the middle for 9 yards, TOUCHDOWN.                      |\n| 2965 | SEA | 1 | SEA | (15:00) 24-M.Lynch left tackle for 3 yards, TOUCHDOWN.                                 |\n| 3268 | GB  | 1 | GB  | (9:37) 12-A.Rodgers pass short right to 18-R.Cobb for 3 yards, TOUCHDOWN.              |\n| 3662 | SEA | 1 | SEA | (2:37) 3-R.Wilson pass short left to 40-D.Coleman for 15 yards, TOUCHDOWN.             |\n\n",
            "text/html": [
              "<table class=\"dataframe\">\n",
              "<caption>A tibble: 6 × 5</caption>\n",
              "<thead>\n",
              "\t<tr><th scope=col>play_id</th><th scope=col>posteam</th><th scope=col>touchdown</th><th scope=col>td_team</th><th scope=col>desc</th></tr>\n",
              "\t<tr><th scope=col>&lt;dbl&gt;</th><th scope=col>&lt;chr&gt;</th><th scope=col>&lt;dbl&gt;</th><th scope=col>&lt;chr&gt;</th><th scope=col>&lt;chr&gt;</th></tr>\n",
              "</thead>\n",
              "<tbody>\n",
              "\t<tr><td> 802</td><td>GB </td><td>1</td><td>GB </td><td>(1:30) 30-J.Kuhn left guard for 2 yards, TOUCHDOWN.                                   </td></tr>\n",
              "\t<tr><td>1032</td><td>SEA</td><td>1</td><td>SEA</td><td>(13:08) (Shotgun) 3-R.Wilson pass short left to 83-R.Lockette for 33 yards, TOUCHDOWN.</td></tr>\n",
              "\t<tr><td>1560</td><td>SEA</td><td>1</td><td>SEA</td><td>(3:46) (Shotgun) 24-M.Lynch up the middle for 9 yards, TOUCHDOWN.                     </td></tr>\n",
              "\t<tr><td>2965</td><td>SEA</td><td>1</td><td>SEA</td><td>(15:00) 24-M.Lynch left tackle for 3 yards, TOUCHDOWN.                                </td></tr>\n",
              "\t<tr><td>3268</td><td>GB </td><td>1</td><td>GB </td><td>(9:37) 12-A.Rodgers pass short right to 18-R.Cobb for 3 yards, TOUCHDOWN.             </td></tr>\n",
              "\t<tr><td>3662</td><td>SEA</td><td>1</td><td>SEA</td><td>(2:37) 3-R.Wilson pass short left to 40-D.Coleman for 15 yards, TOUCHDOWN.            </td></tr>\n",
              "</tbody>\n",
              "</table>\n"
            ]
          },
          "metadata": {}
        }
      ]
    },
    {
      "cell_type": "markdown",
      "metadata": {
        "id": "8nMo_c-4bDoK"
      },
      "source": [
        "**2)** Mostrar qual foi o jogador do time da casa e quando ele recebeu o primeiro passe que permitiu correr 5 ou mais jardas.\n",
        "\n",
        "Para isso, é necessário cobinar 3 conjuntos de dados. No dataset **jogo** é possível retornar qual é o time da casa. Já em **acoesJogadas** é possível saber quantas jardar foram conquistadas (com a variável *yards_gained*). E por fim, em **pontuacaoJogadas** há o nome de quem correu com a bola (variável *rusher*). Vamos ver como fica essa combinação?"
      ]
    },
    {
      "cell_type": "code",
      "metadata": {
        "id": "OPtLp4_SbDoK",
        "colab": {
          "base_uri": "https://localhost:8080/",
          "height": 128
        },
        "outputId": "b2c3f2e7-26d2-47c3-d29c-950ef3f929fa"
      },
      "source": [
        "jogo %>% #primeiro dataset \n",
        "inner_join(acoesJogadas, by='play_id') %>% #segundo dataset combinando com o primeiro\n",
        "inner_join(pontuacaoJogadas, by='play_id') %>% #terceiro dataset combinando com o primeiro e o segundo\n",
        "select(play_id, home_team,posteam, rusher, yards_gained, time, qtr ) %>% #seleção de variáveis\n",
        "filter( posteam == home_team | yards_gained >=5 ) %>% #filtro de dados\n",
        "head(1) #retorno apenas de 1 linha"
      ],
      "execution_count": 16,
      "outputs": [
        {
          "output_type": "display_data",
          "data": {
            "text/plain": [
              "  play_id home_team posteam rusher yards_gained time  qtr\n",
              "1 58      SEA       GB      E.Lacy 6            14:56 1  "
            ],
            "text/latex": "A tibble: 1 × 7\n\\begin{tabular}{lllllll}\n play\\_id & home\\_team & posteam & rusher & yards\\_gained & time & qtr\\\\\n <dbl> & <chr> & <chr> & <chr> & <dbl> & <chr> & <dbl>\\\\\n\\hline\n\t 58 & SEA & GB & E.Lacy & 6 & 14:56 & 1\\\\\n\\end{tabular}\n",
            "text/markdown": "\nA tibble: 1 × 7\n\n| play_id &lt;dbl&gt; | home_team &lt;chr&gt; | posteam &lt;chr&gt; | rusher &lt;chr&gt; | yards_gained &lt;dbl&gt; | time &lt;chr&gt; | qtr &lt;dbl&gt; |\n|---|---|---|---|---|---|---|\n| 58 | SEA | GB | E.Lacy | 6 | 14:56 | 1 |\n\n",
            "text/html": [
              "<table class=\"dataframe\">\n",
              "<caption>A tibble: 1 × 7</caption>\n",
              "<thead>\n",
              "\t<tr><th scope=col>play_id</th><th scope=col>home_team</th><th scope=col>posteam</th><th scope=col>rusher</th><th scope=col>yards_gained</th><th scope=col>time</th><th scope=col>qtr</th></tr>\n",
              "\t<tr><th scope=col>&lt;dbl&gt;</th><th scope=col>&lt;chr&gt;</th><th scope=col>&lt;chr&gt;</th><th scope=col>&lt;chr&gt;</th><th scope=col>&lt;dbl&gt;</th><th scope=col>&lt;chr&gt;</th><th scope=col>&lt;dbl&gt;</th></tr>\n",
              "</thead>\n",
              "<tbody>\n",
              "\t<tr><td>58</td><td>SEA</td><td>GB</td><td>E.Lacy</td><td>6</td><td>14:56</td><td>1</td></tr>\n",
              "</tbody>\n",
              "</table>\n"
            ]
          },
          "metadata": {}
        }
      ]
    },
    {
      "cell_type": "markdown",
      "metadata": {
        "id": "iMNGe_3vbDoK"
      },
      "source": [
        "#### Desafios de manipulação de dados "
      ]
    },
    {
      "cell_type": "markdown",
      "metadata": {
        "id": "szeTfO_hbDoL"
      },
      "source": [
        "Com base no dataset específico **pontuacaoJogadas**, apresente os dados somente quando ouve *rush* ou *pass* na jogada. Garanta que exista também o nome ou abreviatura do time que está atacando (variável *posteam*), além dos nomes dos jogadores que estão fazendo passe,  correndo ou recebendo a bola (variáveis *passer*, *rusher* e *receiver*)"
      ]
    },
    {
      "cell_type": "code",
      "metadata": {
        "id": "FQF3gk1cbDoL",
        "colab": {
          "base_uri": "https://localhost:8080/",
          "height": 283
        },
        "outputId": "edf7b380-8d53-43e6-b57b-3c7cdb86b09a"
      },
      "source": [
        "pontuacaoJogadas %>% #Dataset\n",
        "select(play_id, posteam, rush, pass, rusher, passer, receiver) %>% #seleção de variáveis\n",
        "filter( rush == 1 | pass ==1 ) %>% #filtro de dados\n",
        "head()\n"
      ],
      "execution_count": 17,
      "outputs": [
        {
          "output_type": "display_data",
          "data": {
            "text/plain": [
              "  play_id posteam rush pass rusher   passer    receiver\n",
              "1  58     GB      1    0    E.Lacy   NA        NA      \n",
              "2  79     GB      1    0    E.Lacy   NA        NA      \n",
              "3 111     GB      1    0    E.Lacy   NA        NA      \n",
              "4 132     GB      1    0    J.Starks NA        NA      \n",
              "5 153     GB      0    1    NA       A.Rodgers J.Nelson\n",
              "6 177     GB      0    1    NA       A.Rodgers NA      "
            ],
            "text/latex": "A tibble: 6 × 7\n\\begin{tabular}{lllllll}\n play\\_id & posteam & rush & pass & rusher & passer & receiver\\\\\n <dbl> & <chr> & <dbl> & <dbl> & <chr> & <chr> & <chr>\\\\\n\\hline\n\t  58 & GB & 1 & 0 & E.Lacy   & NA        & NA      \\\\\n\t  79 & GB & 1 & 0 & E.Lacy   & NA        & NA      \\\\\n\t 111 & GB & 1 & 0 & E.Lacy   & NA        & NA      \\\\\n\t 132 & GB & 1 & 0 & J.Starks & NA        & NA      \\\\\n\t 153 & GB & 0 & 1 & NA       & A.Rodgers & J.Nelson\\\\\n\t 177 & GB & 0 & 1 & NA       & A.Rodgers & NA      \\\\\n\\end{tabular}\n",
            "text/markdown": "\nA tibble: 6 × 7\n\n| play_id &lt;dbl&gt; | posteam &lt;chr&gt; | rush &lt;dbl&gt; | pass &lt;dbl&gt; | rusher &lt;chr&gt; | passer &lt;chr&gt; | receiver &lt;chr&gt; |\n|---|---|---|---|---|---|---|\n|  58 | GB | 1 | 0 | E.Lacy   | NA        | NA       |\n|  79 | GB | 1 | 0 | E.Lacy   | NA        | NA       |\n| 111 | GB | 1 | 0 | E.Lacy   | NA        | NA       |\n| 132 | GB | 1 | 0 | J.Starks | NA        | NA       |\n| 153 | GB | 0 | 1 | NA       | A.Rodgers | J.Nelson |\n| 177 | GB | 0 | 1 | NA       | A.Rodgers | NA       |\n\n",
            "text/html": [
              "<table class=\"dataframe\">\n",
              "<caption>A tibble: 6 × 7</caption>\n",
              "<thead>\n",
              "\t<tr><th scope=col>play_id</th><th scope=col>posteam</th><th scope=col>rush</th><th scope=col>pass</th><th scope=col>rusher</th><th scope=col>passer</th><th scope=col>receiver</th></tr>\n",
              "\t<tr><th scope=col>&lt;dbl&gt;</th><th scope=col>&lt;chr&gt;</th><th scope=col>&lt;dbl&gt;</th><th scope=col>&lt;dbl&gt;</th><th scope=col>&lt;chr&gt;</th><th scope=col>&lt;chr&gt;</th><th scope=col>&lt;chr&gt;</th></tr>\n",
              "</thead>\n",
              "<tbody>\n",
              "\t<tr><td> 58</td><td>GB</td><td>1</td><td>0</td><td>E.Lacy  </td><td>NA       </td><td>NA      </td></tr>\n",
              "\t<tr><td> 79</td><td>GB</td><td>1</td><td>0</td><td>E.Lacy  </td><td>NA       </td><td>NA      </td></tr>\n",
              "\t<tr><td>111</td><td>GB</td><td>1</td><td>0</td><td>E.Lacy  </td><td>NA       </td><td>NA      </td></tr>\n",
              "\t<tr><td>132</td><td>GB</td><td>1</td><td>0</td><td>J.Starks</td><td>NA       </td><td>NA      </td></tr>\n",
              "\t<tr><td>153</td><td>GB</td><td>0</td><td>1</td><td>NA      </td><td>A.Rodgers</td><td>J.Nelson</td></tr>\n",
              "\t<tr><td>177</td><td>GB</td><td>0</td><td>1</td><td>NA      </td><td>A.Rodgers</td><td>NA      </td></tr>\n",
              "</tbody>\n",
              "</table>\n"
            ]
          },
          "metadata": {}
        }
      ]
    },
    {
      "cell_type": "markdown",
      "metadata": {
        "id": "OzhWhNfZbDoL"
      },
      "source": [
        "Utilizando o subconjunto de dados **acoesJogadas** e **pontuacaoJogadas**, crie uma análise que retorne qual foi o jogador que conquistou mais jardas no terceiro quarto."
      ]
    },
    {
      "cell_type": "code",
      "metadata": {
        "id": "E-13Rsw_bDoL",
        "colab": {
          "base_uri": "https://localhost:8080/",
          "height": 283
        },
        "outputId": "e19365eb-ea8a-49f9-c0b9-5a1b25b5a607"
      },
      "source": [
        "acoesJogadas %>% #primeiro dataset \n",
        "inner_join(pontuacaoJogadas, by='play_id') %>% #segundo dataset combinando com o primeiro\n",
        "select(play_id, posteam, yards_gained, qtr, name ) %>% #seleção de variáveis\n",
        "filter(qtr == 3) %>% #supondo que isto seja o tal do quarto\n",
        "group_by(name) %>%  #organizando pelo nome do jogador\n",
        "mutate(TotalJardas = sum(yards_gained, na.rm = TRUE)) %>% #criando a variavel TotalJardas com a somas das mesmas\n",
        "select(name, posteam, TotalJardas) %>% #segundo select com os dados relevantes\n",
        "unique() %>% #evitando duplicidades\n",
        "arrange(desc(TotalJardas)) %>% #organizando a vizualizacao por ordem decrescente\n",
        "head() "
      ],
      "execution_count": 22,
      "outputs": [
        {
          "output_type": "display_data",
          "data": {
            "text/plain": [
              "  name      posteam TotalJardas\n",
              "1 R.Wilson  SEA     48         \n",
              "2 M.Lynch   SEA     34         \n",
              "3 A.Rodgers GB      23         \n",
              "4 P.Harvin  SEA     16         \n",
              "5 R.Turbin  SEA      9         \n",
              "6 E.Lacy    GB       2         "
            ],
            "text/latex": "A grouped\\_df: 6 × 3\n\\begin{tabular}{lll}\n name & posteam & TotalJardas\\\\\n <chr> & <chr> & <dbl>\\\\\n\\hline\n\t R.Wilson  & SEA & 48\\\\\n\t M.Lynch   & SEA & 34\\\\\n\t A.Rodgers & GB  & 23\\\\\n\t P.Harvin  & SEA & 16\\\\\n\t R.Turbin  & SEA &  9\\\\\n\t E.Lacy    & GB  &  2\\\\\n\\end{tabular}\n",
            "text/markdown": "\nA grouped_df: 6 × 3\n\n| name &lt;chr&gt; | posteam &lt;chr&gt; | TotalJardas &lt;dbl&gt; |\n|---|---|---|\n| R.Wilson  | SEA | 48 |\n| M.Lynch   | SEA | 34 |\n| A.Rodgers | GB  | 23 |\n| P.Harvin  | SEA | 16 |\n| R.Turbin  | SEA |  9 |\n| E.Lacy    | GB  |  2 |\n\n",
            "text/html": [
              "<table class=\"dataframe\">\n",
              "<caption>A grouped_df: 6 × 3</caption>\n",
              "<thead>\n",
              "\t<tr><th scope=col>name</th><th scope=col>posteam</th><th scope=col>TotalJardas</th></tr>\n",
              "\t<tr><th scope=col>&lt;chr&gt;</th><th scope=col>&lt;chr&gt;</th><th scope=col>&lt;dbl&gt;</th></tr>\n",
              "</thead>\n",
              "<tbody>\n",
              "\t<tr><td>R.Wilson </td><td>SEA</td><td>48</td></tr>\n",
              "\t<tr><td>M.Lynch  </td><td>SEA</td><td>34</td></tr>\n",
              "\t<tr><td>A.Rodgers</td><td>GB </td><td>23</td></tr>\n",
              "\t<tr><td>P.Harvin </td><td>SEA</td><td>16</td></tr>\n",
              "\t<tr><td>R.Turbin </td><td>SEA</td><td> 9</td></tr>\n",
              "\t<tr><td>E.Lacy   </td><td>GB </td><td> 2</td></tr>\n",
              "</tbody>\n",
              "</table>\n"
            ]
          },
          "metadata": {}
        }
      ]
    },
    {
      "cell_type": "markdown",
      "metadata": {
        "id": "N7_FLdk1bDoM"
      },
      "source": [
        "#### Desafio de geração de gráfico  "
      ]
    },
    {
      "cell_type": "markdown",
      "metadata": {
        "id": "ozO5CvzkbDoM"
      },
      "source": [
        "Crie um gráfico de linhas, mostrando a pontuação de cada time em cada *quarter*. O resultado deve ter duas linhas, uma para cada time, e cada linha será composta pela pontuação de cada um dos *quarters* sendo uma cor para cada time. O eixo X terá os *quarters* e o eixo y terá a pontuação."
      ]
    },
    {
      "cell_type": "code",
      "metadata": {
        "colab": {
          "base_uri": "https://localhost:8080/",
          "height": 437
        },
        "id": "I67IkkMypah1",
        "outputId": "6e9ed4a3-19a7-4c92-bb46-79e50744fe36"
      },
      "source": [
        "NovoDataSet <-jogo %>% #primeiro dataset \n",
        "inner_join(acoesJogadas, by='play_id') %>% #segundo dataset combinando com o primeiro\n",
        "inner_join(pontuacaoJogadas, by='play_id') %>% #segundo dataset combinando com o primeiro\n",
        "select(play_id, posteam,\tdefteam, posteam_score, defteam_score, total, qtr ) %>% #seleção de variáveis (deduzindo que estes sejam os valores)\n",
        "filter(!is.na(defteam_score))%>% #remove os NA\n",
        "group_by(qtr) %>%\n",
        "filter(play_id == max(play_id)) %>%\n",
        "unique() #evitando duplicidades\n",
        "\n",
        "#head(NovoDataSet)\n",
        "\n",
        "ggplot(data=NovoDataSet, aes(x=qtr, y=total, group=total)) +\n",
        "ggtitle(\"Pontuacao de cada time\", subtitle = \"quarter por pontuacao\")+\n",
        "geom_line(aes(y = posteam_score, colour = posteam)) + \n",
        "geom_line(aes(y = defteam_score, colour = defteam))+\n",
        "xlab(\"quarter\")+\n",
        "ylab('score')+ \n",
        "theme_linedraw()"
      ],
      "execution_count": 55,
      "outputs": [
        {
          "output_type": "display_data",
          "data": {
            "image/png": "[encoded data removed]",
            "text/plain": [
              "plot without title"
            ]
          },
          "metadata": {
            "image/png": {
              "width": 420,
              "height": 420
            }
          }
        }
      ]
    },
    {
      "cell_type": "markdown",
      "metadata": {
        "id": "JTIsCS8MbDoN"
      },
      "source": [
        "Crie um gráfico de barras empilhada (colunas verticais), utilizando somente as jogadas que tiveram entre 10 e 20 jardas conquistas.\n",
        "O empilhamento das barras será feito pela quantidade de jardas conquistadas (entre 10 e 20). Mantenha as barras verticais segmentadas por quarter do jogo, e por fim, crie a faceta baseada nos times.\n"
      ]
    },
    {
      "cell_type": "code",
      "metadata": {
        "id": "u-pR4ziqbDoN",
        "colab": {
          "base_uri": "https://localhost:8080/",
          "height": 857
        },
        "outputId": "c039c511-26c3-424e-a843-8c353b842cff"
      },
      "source": [
        "jrddf <- acoesJogadas %>% #primeiro dataset \n",
        "inner_join(pontuacaoJogadas, by='play_id') %>% #segundo dataset combinando com o primeiro\n",
        "select(play_id, posteam, yards_gained, qtr, name ) %>% #seleção de variáveis\n",
        "filter(yards_gained >= 10 & yards_gained <= 20)%>% #filto das jardas\n",
        "select(posteam, yards_gained, qtr) #%>% #segundo select com os dados relevantes\n",
        "#head(jrddf) \n",
        "jrddford <- jrddf %>%\n",
        "arrange(yards_gained)\n",
        "\n",
        "#organizado por ordem de ocorrencia\n",
        "ggplot(data=jrddf, aes(x=qtr, y=yards_gained, fill=yards_gained )) +\n",
        "geom_bar(stat=\"identity\")+\n",
        "facet_grid(. ~ posteam)+\n",
        "ggtitle(\"jardas feitas pelos times em cada quarter\", subtitle = \"por ordem de ocorrencia durante a partida\")+\n",
        "xlab(\"Quarters\")+\n",
        "ylab(\"Jardas\")+\n",
        "labs(fill = \"Jardas ganhas entre 10 e 20\")+\n",
        "theme_linedraw()\n",
        "\n",
        "#ou com os dados organizados pela distancia\n",
        "ggplot(data=jrddford, aes(x=qtr, y=yards_gained, fill=yards_gained )) +\n",
        "geom_bar(stat=\"identity\")+\n",
        "facet_grid(. ~ posteam)+\n",
        "ggtitle(\"jardas feitas pelos times em cada quarter\", subtitle = \"por ordem crescente\")+\n",
        "xlab(\"Quarters\")+\n",
        "ylab(\"Jardas\")+\n",
        "labs(fill = \"Jardas ganhas entre 10 e 20\")+\n",
        "theme_linedraw()\n",
        "\n"
      ],
      "execution_count": 56,
      "outputs": [
        {
          "output_type": "display_data",
          "data": {
            "image/png": "[encoded data removed]",
            "text/plain": [
              "plot without title"
            ]
          },
          "metadata": {
            "image/png": {
              "width": 420,
              "height": 420
            }
          }
        },
        {
          "output_type": "display_data",
          "data": {
            "image/png": "[encoded data removed]",
            "text/plain": [
              "plot without title"
            ]
          },
          "metadata": {
            "image/png": {
              "width": 420,
              "height": 420
            }
          }
        }
      ]
    }
  ]
}